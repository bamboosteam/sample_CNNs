{
 "cells": [
  {
   "cell_type": "code",
   "execution_count": 1,
   "metadata": {},
   "outputs": [],
   "source": [
    "import tensorflow as tf\n",
    "import numpy as np\n",
    "import matplotlib.pyplot as plt\n",
    "from tensorflow.examples.tutorials.mnist import input_data\n",
    "\n",
    "np.random.seed(20180528)\n",
    "tf.set_random_seed(20180528)"
   ]
  },
  {
   "cell_type": "code",
   "execution_count": 2,
   "metadata": {},
   "outputs": [
    {
     "name": "stdout",
     "output_type": "stream",
     "text": [
      "WARNING:tensorflow:From <ipython-input-2-d651cc53d7d8>:1: read_data_sets (from tensorflow.contrib.learn.python.learn.datasets.mnist) is deprecated and will be removed in a future version.\n",
      "Instructions for updating:\n",
      "Please use alternatives such as official/mnist/dataset.py from tensorflow/models.\n",
      "WARNING:tensorflow:From /usr/local/lib/python3.5/dist-packages/tensorflow/contrib/learn/python/learn/datasets/mnist.py:260: maybe_download (from tensorflow.contrib.learn.python.learn.datasets.base) is deprecated and will be removed in a future version.\n",
      "Instructions for updating:\n",
      "Please write your own downloading logic.\n",
      "WARNING:tensorflow:From /usr/local/lib/python3.5/dist-packages/tensorflow/contrib/learn/python/learn/datasets/base.py:252: _internal_retry.<locals>.wrap.<locals>.wrapped_fn (from tensorflow.contrib.learn.python.learn.datasets.base) is deprecated and will be removed in a future version.\n",
      "Instructions for updating:\n",
      "Please use urllib or similar directly.\n",
      "Successfully downloaded train-images-idx3-ubyte.gz 9912422 bytes.\n",
      "WARNING:tensorflow:From /usr/local/lib/python3.5/dist-packages/tensorflow/contrib/learn/python/learn/datasets/mnist.py:262: extract_images (from tensorflow.contrib.learn.python.learn.datasets.mnist) is deprecated and will be removed in a future version.\n",
      "Instructions for updating:\n",
      "Please use tf.data to implement this functionality.\n",
      "Extracting /tmp/data/train-images-idx3-ubyte.gz\n",
      "Successfully downloaded train-labels-idx1-ubyte.gz 28881 bytes.\n",
      "WARNING:tensorflow:From /usr/local/lib/python3.5/dist-packages/tensorflow/contrib/learn/python/learn/datasets/mnist.py:267: extract_labels (from tensorflow.contrib.learn.python.learn.datasets.mnist) is deprecated and will be removed in a future version.\n",
      "Instructions for updating:\n",
      "Please use tf.data to implement this functionality.\n",
      "Extracting /tmp/data/train-labels-idx1-ubyte.gz\n",
      "WARNING:tensorflow:From /usr/local/lib/python3.5/dist-packages/tensorflow/contrib/learn/python/learn/datasets/mnist.py:110: dense_to_one_hot (from tensorflow.contrib.learn.python.learn.datasets.mnist) is deprecated and will be removed in a future version.\n",
      "Instructions for updating:\n",
      "Please use tf.one_hot on tensors.\n",
      "Successfully downloaded t10k-images-idx3-ubyte.gz 1648877 bytes.\n",
      "Extracting /tmp/data/t10k-images-idx3-ubyte.gz\n",
      "Successfully downloaded t10k-labels-idx1-ubyte.gz 4542 bytes.\n",
      "Extracting /tmp/data/t10k-labels-idx1-ubyte.gz\n",
      "WARNING:tensorflow:From /usr/local/lib/python3.5/dist-packages/tensorflow/contrib/learn/python/learn/datasets/mnist.py:290: DataSet.__init__ (from tensorflow.contrib.learn.python.learn.datasets.mnist) is deprecated and will be removed in a future version.\n",
      "Instructions for updating:\n",
      "Please use alternatives such as official/mnist/dataset.py from tensorflow/models.\n"
     ]
    }
   ],
   "source": [
    "mnist = input_data.read_data_sets(\"/tmp/data/\", one_hot=True)"
   ]
  },
  {
   "cell_type": "code",
   "execution_count": 3,
   "metadata": {},
   "outputs": [],
   "source": [
    "num_filters = 16\n",
    "\n",
    "x = tf.placeholder(tf.float32, [None, 784])\n",
    "x_images = tf.reshape(x, [-1, 28, 28, 1])\n",
    "\n",
    "w_conv = tf.Variable(tf.truncated_normal([5,5,1,num_filters], stddev=0.1))\n",
    "\n",
    "h_conv = tf.nn.conv2d(x_images, w_conv, strides=[1,1,1,1], padding='SAME')\n",
    "\n",
    "h_pool = tf.nn.max_pool(h_conv, ksize=[1,2,2,1], strides=[1,2,2,1], padding='SAME')"
   ]
  },
  {
   "cell_type": "code",
   "execution_count": 4,
   "metadata": {},
   "outputs": [],
   "source": [
    "h_pool_flat = tf.reshape(h_pool, [-1, 14*14*num_filters])\n",
    "\n",
    "num_units1 = 14*14*num_filters\n",
    "num_units2 = 1024\n",
    "\n",
    "w2 = tf.Variable(tf.truncated_normal([num_units1, num_units2]))\n",
    "b2 = tf.Variable(tf.zeros([num_units2]))\n",
    "hidden2 = tf.nn.relu(tf.matmul(h_pool_flat, w2) + b2) \n",
    "\n",
    "w0 = tf.Variable(tf.zeros([num_units2, 10]))\n",
    "b0 = tf.Variable(tf.zeros([10]))\n",
    "p = tf.nn.softmax(tf.matmul(hidden2, w0) + b0)"
   ]
  },
  {
   "cell_type": "code",
   "execution_count": 5,
   "metadata": {},
   "outputs": [],
   "source": [
    "t = tf.placeholder(tf.float32, [None, 10])\n",
    "loss = -tf.reduce_sum(t * tf.log(p))\n",
    "train_step = tf.train.AdamOptimizer(0.0005).minimize(loss)\n",
    "correct_prediction = tf.equal(tf.argmax(p, 1), tf.argmax(t, 1))\n",
    "accuracy = tf.reduce_mean(tf.cast(correct_prediction, tf.float32))"
   ]
  },
  {
   "cell_type": "code",
   "execution_count": 6,
   "metadata": {},
   "outputs": [],
   "source": [
    "sess = tf.InteractiveSession()\n",
    "sess.run(tf.global_variables_initializer())\n",
    "saver = tf.train.Saver()"
   ]
  },
  {
   "cell_type": "code",
   "execution_count": null,
   "metadata": {},
   "outputs": [
    {
     "name": "stdout",
     "output_type": "stream",
     "text": [
      "Step: 100, Loss: 2134.589844, Accuracy: 0.937800\n",
      "Step: 200, Loss: 1641.772339, Accuracy: 0.951500\n",
      "Step: 300, Loss: 1552.326294, Accuracy: 0.952700\n",
      "Step: 400, Loss: 1083.073242, Accuracy: 0.965400\n",
      "Step: 500, Loss: 1132.809692, Accuracy: 0.965700\n",
      "Step: 600, Loss: 799.589905, Accuracy: 0.976200\n",
      "Step: 700, Loss: 899.065796, Accuracy: 0.972100\n",
      "Step: 800, Loss: 756.927612, Accuracy: 0.976600\n",
      "Step: 900, Loss: 921.166016, Accuracy: 0.972900\n",
      "Step: 1000, Loss: 770.456177, Accuracy: 0.975700\n",
      "Step: 1100, Loss: 904.240112, Accuracy: 0.971700\n",
      "Step: 1200, Loss: 718.684692, Accuracy: 0.977900\n",
      "Step: 1300, Loss: 662.794678, Accuracy: 0.978700\n",
      "Step: 1400, Loss: 695.029785, Accuracy: 0.978300\n",
      "Step: 1500, Loss: 707.041809, Accuracy: 0.977900\n",
      "Step: 1600, Loss: 701.669739, Accuracy: 0.977000\n",
      "Step: 1700, Loss: 586.320923, Accuracy: 0.981100\n",
      "Step: 1800, Loss: 589.856018, Accuracy: 0.981300\n",
      "Step: 1900, Loss: 647.154236, Accuracy: 0.979400\n",
      "Step: 2000, Loss: 607.644226, Accuracy: 0.980900\n",
      "Step: 2100, Loss: 700.514587, Accuracy: 0.978200\n",
      "Step: 2200, Loss: 627.443542, Accuracy: 0.982200\n",
      "Step: 2300, Loss: 511.123169, Accuracy: 0.983800\n",
      "Step: 2400, Loss: 620.231201, Accuracy: 0.980800\n",
      "Step: 2500, Loss: 630.959351, Accuracy: 0.980900\n",
      "Step: 2600, Loss: 538.981628, Accuracy: 0.983600\n",
      "Step: 2700, Loss: 547.233154, Accuracy: 0.983900\n",
      "Step: 2800, Loss: 570.440857, Accuracy: 0.982000\n",
      "Step: 2900, Loss: 587.703491, Accuracy: 0.983200\n",
      "Step: 3000, Loss: 593.701050, Accuracy: 0.982700\n",
      "Step: 3100, Loss: 601.505737, Accuracy: 0.982600\n",
      "Step: 3200, Loss: 580.331543, Accuracy: 0.983800\n",
      "Step: 3300, Loss: 585.617065, Accuracy: 0.982400\n",
      "Step: 3400, Loss: 610.960938, Accuracy: 0.982200\n",
      "Step: 3500, Loss: 589.946289, Accuracy: 0.981800\n",
      "Step: 3600, Loss: 580.791199, Accuracy: 0.982500\n",
      "Step: 3700, Loss: 713.105347, Accuracy: 0.980700\n",
      "Step: 3800, Loss: 588.889404, Accuracy: 0.982100\n"
     ]
    }
   ],
   "source": [
    "i = 0\n",
    "for _ in range(4000):\n",
    "    i += 1\n",
    "    batch_xs, batch_ts = mnist.train.next_batch(100)\n",
    "    sess.run(train_step, feed_dict={x: batch_xs, t: batch_ts})\n",
    "    if i % 100 == 0:\n",
    "        loss_val, acc_val = sess.run([loss, accuracy], feed_dict={x:mnist.test.images, t:mnist.test.labels})\n",
    "        print('Step: %d, Loss: %f, Accuracy: %f' %(i, loss_val, acc_val))\n",
    "        saver.save(sess, '/home/yy/takezawa/Sample/mdc_session', global_step=i)"
   ]
  },
  {
   "cell_type": "code",
   "execution_count": 24,
   "metadata": {},
   "outputs": [],
   "source": [
    "W_CONV_0 = sess.run(w_conv[0][0])"
   ]
  },
  {
   "cell_type": "code",
   "execution_count": 31,
   "metadata": {},
   "outputs": [
    {
     "data": {
      "text/plain": [
       "numpy.float32"
      ]
     },
     "execution_count": 31,
     "metadata": {},
     "output_type": "execute_result"
    }
   ],
   "source": []
  },
  {
   "cell_type": "code",
   "execution_count": null,
   "metadata": {},
   "outputs": [],
   "source": []
  }
 ],
 "metadata": {
  "kernelspec": {
   "display_name": "Python 3",
   "language": "python",
   "name": "python3"
  },
  "language_info": {
   "codemirror_mode": {
    "name": "ipython",
    "version": 3
   },
   "file_extension": ".py",
   "mimetype": "text/x-python",
   "name": "python",
   "nbconvert_exporter": "python",
   "pygments_lexer": "ipython3",
   "version": "3.5.2"
  }
 },
 "nbformat": 4,
 "nbformat_minor": 2
}
